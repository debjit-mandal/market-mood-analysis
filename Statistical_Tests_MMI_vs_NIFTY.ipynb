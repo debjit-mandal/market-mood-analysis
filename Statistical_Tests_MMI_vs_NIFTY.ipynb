{
 "cells": [
  {
   "cell_type": "markdown",
   "id": "7368af51",
   "metadata": {},
   "source": [
    "# Statistical Tests of Market Mood Index vs NIFTY Index"
   ]
  },
  {
   "cell_type": "code",
   "execution_count": 1,
   "id": "6dce3626",
   "metadata": {},
   "outputs": [
    {
     "data": {
      "text/html": [
       "<div>\n",
       "<style scoped>\n",
       "    .dataframe tbody tr th:only-of-type {\n",
       "        vertical-align: middle;\n",
       "    }\n",
       "\n",
       "    .dataframe tbody tr th {\n",
       "        vertical-align: top;\n",
       "    }\n",
       "\n",
       "    .dataframe thead th {\n",
       "        text-align: right;\n",
       "    }\n",
       "</style>\n",
       "<table border=\"1\" class=\"dataframe\">\n",
       "  <thead>\n",
       "    <tr style=\"text-align: right;\">\n",
       "      <th></th>\n",
       "      <th>Date</th>\n",
       "      <th>Market Mood Index</th>\n",
       "      <th>Nifty Index</th>\n",
       "    </tr>\n",
       "  </thead>\n",
       "  <tbody>\n",
       "    <tr>\n",
       "      <th>0</th>\n",
       "      <td>2024-06-07</td>\n",
       "      <td>51.525161</td>\n",
       "      <td>23290.15</td>\n",
       "    </tr>\n",
       "    <tr>\n",
       "      <th>1</th>\n",
       "      <td>2024-06-06</td>\n",
       "      <td>43.454809</td>\n",
       "      <td>22821.40</td>\n",
       "    </tr>\n",
       "    <tr>\n",
       "      <th>2</th>\n",
       "      <td>2024-06-05</td>\n",
       "      <td>35.283719</td>\n",
       "      <td>22620.35</td>\n",
       "    </tr>\n",
       "    <tr>\n",
       "      <th>3</th>\n",
       "      <td>2024-06-04</td>\n",
       "      <td>48.996059</td>\n",
       "      <td>21884.50</td>\n",
       "    </tr>\n",
       "    <tr>\n",
       "      <th>4</th>\n",
       "      <td>2024-06-03</td>\n",
       "      <td>59.844635</td>\n",
       "      <td>23263.90</td>\n",
       "    </tr>\n",
       "  </tbody>\n",
       "</table>\n",
       "</div>"
      ],
      "text/plain": [
       "        Date  Market Mood Index  Nifty Index\n",
       "0 2024-06-07          51.525161     23290.15\n",
       "1 2024-06-06          43.454809     22821.40\n",
       "2 2024-06-05          35.283719     22620.35\n",
       "3 2024-06-04          48.996059     21884.50\n",
       "4 2024-06-03          59.844635     23263.90"
      ]
     },
     "execution_count": 1,
     "metadata": {},
     "output_type": "execute_result"
    }
   ],
   "source": [
    "import pandas as pd\n",
    "from scipy.stats import pearsonr, ttest_ind, f_oneway\n",
    "\n",
    "file_path = 'data/MMI_09-Jun-2024.csv'\n",
    "data = pd.read_csv(file_path)\n",
    "data.columns = [col.strip() for col in data.columns]\n",
    "\n",
    "data['Date'] = pd.to_datetime(data['Date'], format='%d/%m/%Y')\n",
    "\n",
    "data.head()"
   ]
  },
  {
   "cell_type": "markdown",
   "id": "a814a1af",
   "metadata": {},
   "source": [
    "## Pearson Correlation Test"
   ]
  },
  {
   "cell_type": "code",
   "execution_count": 2,
   "id": "8263d006",
   "metadata": {},
   "outputs": [
    {
     "data": {
      "text/plain": [
       "-0.0164936634764686"
      ]
     },
     "execution_count": 2,
     "metadata": {},
     "output_type": "execute_result"
    }
   ],
   "source": [
    "pearson_corr, _ = pearsonr(data['Market Mood Index'], data['Nifty Index'])\n",
    "pearson_corr"
   ]
  },
  {
   "cell_type": "markdown",
   "id": "7ad243d9",
   "metadata": {},
   "source": [
    "## T-Test"
   ]
  },
  {
   "cell_type": "code",
   "execution_count": 3,
   "id": "811c4de3",
   "metadata": {},
   "outputs": [
    {
     "data": {
      "text/plain": [
       "(-132.35128944631336, 0.0)"
      ]
     },
     "execution_count": 3,
     "metadata": {},
     "output_type": "execute_result"
    }
   ],
   "source": [
    "t_stat, p_value = ttest_ind(data['Market Mood Index'], data['Nifty Index'])\n",
    "t_stat, p_value"
   ]
  },
  {
   "cell_type": "markdown",
   "id": "967b66de",
   "metadata": {},
   "source": [
    "## ANOVA Test"
   ]
  },
  {
   "cell_type": "code",
   "execution_count": 4,
   "id": "fce78e44",
   "metadata": {},
   "outputs": [
    {
     "data": {
      "text/plain": [
       "(17516.86381810183, 0.0)"
      ]
     },
     "execution_count": 4,
     "metadata": {},
     "output_type": "execute_result"
    }
   ],
   "source": [
    "f_stat, p_value_anova = f_oneway(data['Market Mood Index'], data['Nifty Index'])\n",
    "f_stat, p_value_anova"
   ]
  }
 ],
 "metadata": {
  "kernelspec": {
   "display_name": "Python 3",
   "language": "python",
   "name": "python3"
  },
  "language_info": {
   "codemirror_mode": {
    "name": "ipython",
    "version": 3
   },
   "file_extension": ".py",
   "mimetype": "text/x-python",
   "name": "python",
   "nbconvert_exporter": "python",
   "pygments_lexer": "ipython3",
   "version": "3.12.3"
  }
 },
 "nbformat": 4,
 "nbformat_minor": 5
}
