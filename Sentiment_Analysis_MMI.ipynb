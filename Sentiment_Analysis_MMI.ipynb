{
 "cells": [
  {
   "cell_type": "markdown",
   "id": "9ed76b85",
   "metadata": {},
   "source": [
    "# Sentiment Analysis of Market Mood Index"
   ]
  },
  {
   "cell_type": "code",
   "execution_count": 9,
   "id": "7b64d4fd",
   "metadata": {},
   "outputs": [
    {
     "data": {
      "text/html": [
       "<div>\n",
       "<style scoped>\n",
       "    .dataframe tbody tr th:only-of-type {\n",
       "        vertical-align: middle;\n",
       "    }\n",
       "\n",
       "    .dataframe tbody tr th {\n",
       "        vertical-align: top;\n",
       "    }\n",
       "\n",
       "    .dataframe thead th {\n",
       "        text-align: right;\n",
       "    }\n",
       "</style>\n",
       "<table border=\"1\" class=\"dataframe\">\n",
       "  <thead>\n",
       "    <tr style=\"text-align: right;\">\n",
       "      <th></th>\n",
       "      <th>Date</th>\n",
       "      <th>Market Mood Index</th>\n",
       "      <th>Nifty Index</th>\n",
       "    </tr>\n",
       "  </thead>\n",
       "  <tbody>\n",
       "    <tr>\n",
       "      <th>0</th>\n",
       "      <td>2024-06-07</td>\n",
       "      <td>51.525161</td>\n",
       "      <td>23290.15</td>\n",
       "    </tr>\n",
       "    <tr>\n",
       "      <th>1</th>\n",
       "      <td>2024-06-06</td>\n",
       "      <td>43.454809</td>\n",
       "      <td>22821.40</td>\n",
       "    </tr>\n",
       "    <tr>\n",
       "      <th>2</th>\n",
       "      <td>2024-06-05</td>\n",
       "      <td>35.283719</td>\n",
       "      <td>22620.35</td>\n",
       "    </tr>\n",
       "    <tr>\n",
       "      <th>3</th>\n",
       "      <td>2024-06-04</td>\n",
       "      <td>48.996059</td>\n",
       "      <td>21884.50</td>\n",
       "    </tr>\n",
       "    <tr>\n",
       "      <th>4</th>\n",
       "      <td>2024-06-03</td>\n",
       "      <td>59.844635</td>\n",
       "      <td>23263.90</td>\n",
       "    </tr>\n",
       "  </tbody>\n",
       "</table>\n",
       "</div>"
      ],
      "text/plain": [
       "        Date  Market Mood Index  Nifty Index\n",
       "0 2024-06-07          51.525161     23290.15\n",
       "1 2024-06-06          43.454809     22821.40\n",
       "2 2024-06-05          35.283719     22620.35\n",
       "3 2024-06-04          48.996059     21884.50\n",
       "4 2024-06-03          59.844635     23263.90"
      ]
     },
     "execution_count": 9,
     "metadata": {},
     "output_type": "execute_result"
    }
   ],
   "source": [
    "import pandas as pd\n",
    "import matplotlib.pyplot as plt\n",
    "from textblob import TextBlob\n",
    "\n",
    "file_path = 'data/MMI_09-Jun-2024.csv'\n",
    "data = pd.read_csv(file_path)\n",
    "data.columns = [col.strip() for col in data.columns]\n",
    "\n",
    "data['Date'] = pd.to_datetime(data['Date'], format='%d/%m/%Y')\n",
    "\n",
    "data.head()"
   ]
  },
  {
   "cell_type": "markdown",
   "id": "2ed4565d",
   "metadata": {},
   "source": [
    "## Sentiment Analysis using TextBlob"
   ]
  },
  {
   "cell_type": "code",
   "execution_count": 10,
   "id": "c1abd7c0",
   "metadata": {},
   "outputs": [
    {
     "data": {
      "text/html": [
       "<div>\n",
       "<style scoped>\n",
       "    .dataframe tbody tr th:only-of-type {\n",
       "        vertical-align: middle;\n",
       "    }\n",
       "\n",
       "    .dataframe tbody tr th {\n",
       "        vertical-align: top;\n",
       "    }\n",
       "\n",
       "    .dataframe thead th {\n",
       "        text-align: right;\n",
       "    }\n",
       "</style>\n",
       "<table border=\"1\" class=\"dataframe\">\n",
       "  <thead>\n",
       "    <tr style=\"text-align: right;\">\n",
       "      <th></th>\n",
       "      <th>Date</th>\n",
       "      <th>Market Mood Index</th>\n",
       "      <th>Nifty Index</th>\n",
       "      <th>Text</th>\n",
       "      <th>Sentiment</th>\n",
       "    </tr>\n",
       "  </thead>\n",
       "  <tbody>\n",
       "    <tr>\n",
       "      <th>0</th>\n",
       "      <td>2024-06-07</td>\n",
       "      <td>51.525161</td>\n",
       "      <td>23290.15</td>\n",
       "      <td>Market is bullish today with a lot of positive...</td>\n",
       "      <td>0.227273</td>\n",
       "    </tr>\n",
       "    <tr>\n",
       "      <th>1</th>\n",
       "      <td>2024-06-06</td>\n",
       "      <td>43.454809</td>\n",
       "      <td>22821.40</td>\n",
       "      <td>Market is bearish with a lot of negative senti...</td>\n",
       "      <td>-0.300000</td>\n",
       "    </tr>\n",
       "    <tr>\n",
       "      <th>2</th>\n",
       "      <td>2024-06-05</td>\n",
       "      <td>35.283719</td>\n",
       "      <td>22620.35</td>\n",
       "      <td>Mixed feelings about the market today</td>\n",
       "      <td>0.000000</td>\n",
       "    </tr>\n",
       "    <tr>\n",
       "      <th>3</th>\n",
       "      <td>2024-06-04</td>\n",
       "      <td>48.996059</td>\n",
       "      <td>21884.50</td>\n",
       "      <td>Market is bullish today with a lot of positive...</td>\n",
       "      <td>0.227273</td>\n",
       "    </tr>\n",
       "    <tr>\n",
       "      <th>4</th>\n",
       "      <td>2024-06-03</td>\n",
       "      <td>59.844635</td>\n",
       "      <td>23263.90</td>\n",
       "      <td>Market is bearish with a lot of negative senti...</td>\n",
       "      <td>-0.300000</td>\n",
       "    </tr>\n",
       "  </tbody>\n",
       "</table>\n",
       "</div>"
      ],
      "text/plain": [
       "        Date  Market Mood Index  Nifty Index  \\\n",
       "0 2024-06-07          51.525161     23290.15   \n",
       "1 2024-06-06          43.454809     22821.40   \n",
       "2 2024-06-05          35.283719     22620.35   \n",
       "3 2024-06-04          48.996059     21884.50   \n",
       "4 2024-06-03          59.844635     23263.90   \n",
       "\n",
       "                                                Text  Sentiment  \n",
       "0  Market is bullish today with a lot of positive...   0.227273  \n",
       "1  Market is bearish with a lot of negative senti...  -0.300000  \n",
       "2              Mixed feelings about the market today   0.000000  \n",
       "3  Market is bullish today with a lot of positive...   0.227273  \n",
       "4  Market is bearish with a lot of negative senti...  -0.300000  "
      ]
     },
     "execution_count": 10,
     "metadata": {},
     "output_type": "execute_result"
    }
   ],
   "source": [
    "data['Text'] = ['Market is bullish today with a lot of positive sentiment' if i % 3 == 0 else\n",
    "                'Market is bearish with a lot of negative sentiment' if i % 3 == 1 else\n",
    "                'Mixed feelings about the market today' for i in range(len(data))]\n",
    "\n",
    "def get_sentiment(text):\n",
    "    analysis = TextBlob(text)\n",
    "    return analysis.sentiment.polarity\n",
    "\n",
    "data['Sentiment'] = data['Text'].apply(get_sentiment)\n",
    "\n",
    "data.head()"
   ]
  },
  {
   "cell_type": "markdown",
   "id": "ad20c539",
   "metadata": {},
   "source": [
    "## Visualization of Sentiment Analysis"
   ]
  },
  {
   "cell_type": "code",
   "execution_count": 11,
   "id": "5cbed8ca",
   "metadata": {},
   "outputs": [
    {
     "data": {
      "image/png": "[encoded data removed]",
      "text/plain": [
       "<Figure size 1400x700 with 1 Axes>"
      ]
     },
     "metadata": {},
     "output_type": "display_data"
    }
   ],
   "source": [
    "data['Sentiment_Rolling_Mean'] = data['Sentiment'].rolling(window=30).mean()\n",
    "\n",
    "plt.figure(figsize=(14, 7))\n",
    "plt.plot(data['Date'], data['Sentiment_Rolling_Mean'], label='Sentiment Score (30-day Rolling Mean)')\n",
    "plt.xlabel('Date')\n",
    "plt.ylabel('Sentiment Score')\n",
    "plt.title('Sentiment Analysis of Market Mood Index')\n",
    "plt.legend()\n",
    "plt.grid(True)\n",
    "plt.show()"
   ]
  }
 ],
 "metadata": {
  "language_info": {
   "name": "python"
  }
 },
 "nbformat": 4,
 "nbformat_minor": 5
}
